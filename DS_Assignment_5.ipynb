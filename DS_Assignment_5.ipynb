{
  "nbformat": 4,
  "nbformat_minor": 0,
  "metadata": {
    "colab": {
      "provenance": []
    },
    "kernelspec": {
      "name": "python3",
      "display_name": "Python 3"
    },
    "language_info": {
      "name": "python"
    }
  },
  "cells": [
    {
      "cell_type": "code",
      "execution_count": 3,
      "metadata": {
        "id": "jvxpykzA6jdE"
      },
      "outputs": [],
      "source": [
        "#Q1\n",
        "original = [1,2,3,4]\n",
        "m = 2\n",
        "n = 2\n",
        "\n",
        "\n",
        "class Solution:\n",
        "  def construct2DArray(self, original,m,n):\n",
        "    if len(original) != m * n:\n",
        "      return []\n",
        "\n",
        "    ans = [[0] * n for _ in range(m)]\n",
        "\n",
        "    for i, num in enumerate(original):\n",
        "      ans[i // n][i % n] = num\n",
        "\n",
        "    return ans"
      ]
    },
    {
      "cell_type": "code",
      "source": [
        "#Q2\n",
        "n = 5\n",
        "class Solution:\n",
        "    def arrangeCoins(self, n):\n",
        "        if n==1:\n",
        "            return 1\n",
        "        l=0\n",
        "        r=n//2 + 1\n",
        "        while l<=r:\n",
        "            m = l+(r-l)//2\n",
        "            x = (m*(m+1)//2)\n",
        "            if x==n:\n",
        "                return(m)\n",
        "            elif x<n:\n",
        "                l = m+1\n",
        "            else:\n",
        "                r=m-1\n",
        "        return(l-1)"
      ],
      "metadata": {
        "id": "fjhPtimn7DbR"
      },
      "execution_count": 4,
      "outputs": []
    },
    {
      "cell_type": "code",
      "source": [
        "#Q3\n",
        "A = [-4,-1,0,3,10]\n",
        "\n",
        "class Solution:\n",
        "    def sortedSquares(self, A):\n",
        "\n",
        "        answer = [0] * len(A)\n",
        "        l, r = 0, len(A) - 1\n",
        "        while l <= r:\n",
        "            left, right = abs(A[l]), abs(A[r])\n",
        "            if left > right:\n",
        "                answer[r - l] = left * left\n",
        "                l += 1\n",
        "            else:\n",
        "                answer[r - l] = right * right\n",
        "                r -= 1\n",
        "        return( answer)"
      ],
      "metadata": {
        "id": "KaK8s5Lj7kr9"
      },
      "execution_count": 6,
      "outputs": []
    },
    {
      "cell_type": "code",
      "source": [
        "#Q8\n",
        "changed = [1,3,4,2,6,8]\n",
        "class Solution:\n",
        "  def findOriginalArray(self, changed):\n",
        "    ans = []\n",
        "    q = collections.deque()\n",
        "\n",
        "    for num in sorted(changed):\n",
        "      if q and num == q[0]:\n",
        "        q.popleft()\n",
        "      else:\n",
        "        q.append(num * 2)\n",
        "        ans.append(num)\n",
        "\n",
        "    return [] if q else ans"
      ],
      "metadata": {
        "id": "6Mj_zObV7xyA"
      },
      "execution_count": 17,
      "outputs": []
    },
    {
      "cell_type": "code",
      "source": [],
      "metadata": {
        "id": "F-_beGtp8QfQ"
      },
      "execution_count": null,
      "outputs": []
    }
  ]
}